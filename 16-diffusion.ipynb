{
 "cells": [
  {
   "cell_type": "markdown",
   "metadata": {},
   "source": [
    "# Diffusion Probablistic Models\n",
    "\n",
    "Diffusion probabilistic models are a class of generative models that learn to generate data by reversing a diffusion process. They have been shown to be effective in generating high-quality images, audio, and other types of data."
   ]
  },
  {
   "cell_type": "markdown",
   "metadata": {},
   "source": [
    "## Main Idea\n",
    "\n",
    "A markov chain is defined that gradually adds noise to the data, and then learns to reverse this process to generate new samples. The model is trained to predict the noise added at each step, allowing it to generate new data by sampling from the learned distribution.\n",
    "\n",
    "The following flowchart illustrates the diffusion process in a horizontal manner with $x^0$, ..., $x^{t-1}$, $x^t$, ..., $x^T$ representing the data at different time steps:\n",
    "\n",
    "```mermaid\n",
    "flowchart LR\n",
    "    x0((x^0)) --> xt1((x^t1))\n",
    "    xt1 --> xt2((x^t2))\n",
    "    xt2 --> xT((x^T))\n",
    "    xt2 -->xt1\n",
    "```\n",
    "\n",
    "\n",
    "The above process can be summarized in the following steps:\n",
    "1. **Forward Process**: Gradually add noise to the data over a series of time steps, creating a sequence of increasingly noisy versions of the original data.\n",
    "2. **Reverse Process**: Train a neural network to predict the noise added at each step, allowing it to reverse the diffusion process and generate new samples.\n",
    "\n",
    "\n",
    "The ultimate goal of generative modeling is to learn a distribution $p(x^0)$ over the data space, which can be achieved by learning the reverse process of the diffusion model.\n",
    "\n",
    "$$\n",
    "p(x^{(0)}) = \\int dx^{(1\\dots T)} p(x^{(0 \\dots T)})\n",
    "$$\n",
    "\n",
    "where $p(x^0 | x^{(1\\ldots T)})$ is the learned distribution of the original data conditioned on the noisy versions."
   ]
  }
 ],
 "metadata": {
  "language_info": {
   "name": "python"
  }
 },
 "nbformat": 4,
 "nbformat_minor": 2
}
